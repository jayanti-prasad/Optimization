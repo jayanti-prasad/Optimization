{
 "cells": [
  {
   "cell_type": "code",
   "execution_count": 4,
   "id": "027c25dd",
   "metadata": {},
   "outputs": [
    {
     "ename": "TypeError",
     "evalue": "cannot unpack non-iterable AxesImage object",
     "output_type": "error",
     "traceback": [
      "\u001b[0;31m---------------------------------------------------------------------------\u001b[0m",
      "\u001b[0;31mTypeError\u001b[0m                                 Traceback (most recent call last)",
      "Input \u001b[0;32mIn [4]\u001b[0m, in \u001b[0;36m<cell line: 24>\u001b[0;34m()\u001b[0m\n\u001b[1;32m     27\u001b[0m axis \u001b[38;5;241m=\u001b[39m plt\u001b[38;5;241m.\u001b[39maxes()\n\u001b[1;32m     29\u001b[0m img \u001b[38;5;241m=\u001b[39m np\u001b[38;5;241m.\u001b[39mrandom\u001b[38;5;241m.\u001b[39mrandint (\u001b[38;5;241m0\u001b[39m,\u001b[38;5;241m255\u001b[39m,[\u001b[38;5;241m20\u001b[39m,\u001b[38;5;241m20\u001b[39m])\n\u001b[0;32m---> 31\u001b[0m line, \u001b[38;5;241m=\u001b[39m axis\u001b[38;5;241m.\u001b[39mimshow ([[]])\n\u001b[1;32m     33\u001b[0m xdata  \u001b[38;5;241m=\u001b[39m []\n\u001b[1;32m     37\u001b[0m \u001b[38;5;66;03m# calling the animation function\t\u001b[39;00m\n",
      "\u001b[0;31mTypeError\u001b[0m: cannot unpack non-iterable AxesImage object"
     ]
    },
    {
     "data": {
      "image/png": "[encoded data removed]",
      "text/plain": [
       "<Figure size 432x288 with 1 Axes>"
      ]
     },
     "metadata": {
      "needs_background": "light"
     },
     "output_type": "display_data"
    }
   ],
   "source": [
    "import matplotlib.animation as animation\n",
    "import matplotlib.pyplot as plt\n",
    "import numpy as np\n",
    "\n",
    "\n",
    "def init():\n",
    "    line.set_data([[]])\n",
    "    return line,\n",
    "\n",
    "\n",
    "# animation function\n",
    "def animate(i):\n",
    "   \n",
    "    img = np.random.randint (0,255,[20,20])\n",
    "    \n",
    "    \n",
    "    xdata.append(img)\n",
    "    \n",
    "    line.set_data(xdata)\n",
    "    return line,\n",
    "\n",
    "\n",
    "\n",
    "if __name__ == \"__main__\":\n",
    "    \n",
    "    fig = plt.figure()\n",
    "    axis = plt.axes()\n",
    "   \n",
    "    img = np.random.randint (0,255,[20,20])\n",
    "    \n",
    "    line, = axis.imshow ([[]])\n",
    "    \n",
    "    xdata  = []\n",
    "    \n",
    "    \n",
    "    \n",
    "    # calling the animation function\t\n",
    "    anim = animation.FuncAnimation(fig, animate, init_func = init, frames = 500, interval = 20, blit = True)\n",
    "   \n",
    "    # saves the animation in our deskto\n",
    "    anim.save('noise.mp4', writer = 'ffmpeg', fps = 30)\n",
    "\n"
   ]
  },
  {
   "cell_type": "code",
   "execution_count": null,
   "id": "ac9459e7",
   "metadata": {},
   "outputs": [],
   "source": []
  }
 ],
 "metadata": {
  "kernelspec": {
   "display_name": "Python 3 (ipykernel)",
   "language": "python",
   "name": "python3"
  },
  "language_info": {
   "codemirror_mode": {
    "name": "ipython",
    "version": 3
   },
   "file_extension": ".py",
   "mimetype": "text/x-python",
   "name": "python",
   "nbconvert_exporter": "python",
   "pygments_lexer": "ipython3",
   "version": "3.9.7"
  }
 },
 "nbformat": 4,
 "nbformat_minor": 5
}
